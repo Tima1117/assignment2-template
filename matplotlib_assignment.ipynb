{
  "cells": [
    {
      "cell_type": "markdown",
      "metadata": {},
      "source": [
        "<!--<badge>--><a href=\"https://colab.research.google.com/github/hse-mlwp-2022/assignment2-template/blob/main/matplotlib_assignment.ipynb\" target=\"_parent\"><img src=\"https://colab.research.google.com/assets/colab-badge.svg\" alt=\"Open In Colab\"/></a><!--</badge>-->"
      ]
    },
    {
      "cell_type": "markdown",
      "metadata": {},
      "source": [
        "# Machine Learning with Python - homework 2\n",
        "## Excercise 2: Matplotlib and LaTeX\n",
        "\n",
        "In this excercise you will be presented with a parameterized mathematical function. You will have to evaluate and visualize it on a plot using python. While mathematical function may seem arbitrary, it will help you\n",
        "\n",
        "### Excercise goals\n",
        "\n",
        "1. Get used to seeing mathematical equations as this skill will be required later in the class. Don't panic yet! Only high school maths here, no integrals or derivatives in this assignment.\n",
        "2. Learn how to perform basic maths with `numpy` and visualize the results with `matplotlib`\n",
        "\n",
        "### Total point value of this excercise\n",
        "\n",
        "This excercise is worth a total of (up to) 3 points.  This assignment is in part covered by automatic tests and in part will be graded manually. To receive full credit you need to successfully complete the task below. "
      ]
    },
    {
      "cell_type": "markdown",
      "metadata": {},
      "source": [
        "## Part 1. A quest to find your task\n",
        "\n",
        "Let's start by importing `numpy` library. We will need it later on to do some maths. We also need `matplotlib.pyplot` to visualize the results of our calculations."
      ]
    },
    {
      "cell_type": "code",
      "execution_count": null,
      "metadata": {},
      "outputs": [],
      "source": [
        "import numpy as np\n",
        "from matplotlib import pyplot as plt"
      ]
    },
    {
      "cell_type": "markdown",
      "metadata": {},
      "source": [
        "Follow the [link](https://docs.google.com/spreadsheets/d/194gX8uSUyqv_aQbJi8_TYuIgXHsDBtMDCofQ1uJ4GvA/edit?usp=sharing) to a Google Sheet with a list of students. Locate your name on the list and take note of the corresponding `Student ID` in the first column. Fill it in the cell below and run the cell. If you can't find yourself on the list, consult your course instructor."
      ]
    },
    {
      "cell_type": "code",
      "execution_count": 13,
      "metadata": {},
      "outputs": [],
      "source": [
        "### BEGIN YOUR CODE\n",
        "\n",
        "Student_ID = None\n",
        "\n",
        "### END YOUR CODE"
      ]
    },
    {
      "cell_type": "markdown",
      "metadata": {},
      "source": [
        "Now run the next cell. It will print a function number for you."
      ]
    },
    {
      "cell_type": "code",
      "execution_count": null,
      "metadata": {},
      "outputs": [],
      "source": [
        "task_id = None if Student_ID is None else Student_ID % 25 if Student_ID % 25 > 0 else 25\n",
        "print(f\"Please, choose a mathematical function No {task_id} below\")"
      ]
    },
    {
      "attachments": {},
      "cell_type": "markdown",
      "metadata": {},
      "source": [
        "![mathematical_functions.png](https://github.com/hse-mlwp-2022/assignment2-template/raw/main/mathematical_functions.png)"
      ]
    },
    {
      "cell_type": "markdown",
      "metadata": {},
      "source": [
        "In the list of mathematical functions presented above $y$, or more correctly speaking $y(x)$, is a dependent variable produced by calculating a mathematical function. $a$, $b$, $c$, $d$ are scalar function parameters and $x$ is an independent variable.\n",
        "\n",
        "Now that you have selected a function, write it down in a cell below using LaTeX and run the cell to render it"
      ]
    },
    {
      "cell_type": "markdown",
      "metadata": {},
      "source": [
        "$$ y = ... $$"
      ]
    },
    {
      "cell_type": "markdown",
      "metadata": {},
      "source": [
        "## Part 2. Make python do the maths\n",
        "\n",
        "Write a python function that calculates the mathematical function $y(x)$ given scalar parameters $a$, $b$, $c$, $d$ (if aplicable) and a list of values of independent variable $x$. You can find mathematical functions available in the `numpy` library [here](https://numpy.org/doc/stable/reference/routines.math.html). \n",
        "\n",
        "An example for function $y(x) = a \\sin^2x + b\\log_cx$ might look like this:\n",
        "```python\n",
        "def my_function(x,a,b,c,d):\n",
        "    return a * np.sin(x) ** 2 + b * np.log(x) / np.log(c)\n",
        "```"
      ]
    },
    {
      "cell_type": "code",
      "execution_count": null,
      "metadata": {},
      "outputs": [],
      "source": [
        "def my_function(x,a,b,c,d):\n",
        "  ### BEGIN YOUR CODE\n",
        "  return None\n",
        "  ### END YOUR CODE"
      ]
    },
    {
      "cell_type": "markdown",
      "metadata": {},
      "source": [
        "Set some values for paramters $a$, $b$, $c$, $d$, and define a range for $x$ variable:"
      ]
    },
    {
      "cell_type": "code",
      "execution_count": null,
      "metadata": {},
      "outputs": [],
      "source": [
        "### BEGIN YOUR CODE\n",
        "\n",
        "a = 2\n",
        "b = 2\n",
        "c = 2\n",
        "d = 2\n",
        "x = np.linspace(0, 10, 100)\n",
        "\n",
        "### END YOUR CODE"
      ]
    },
    {
      "cell_type": "markdown",
      "metadata": {},
      "source": [
        "With all prerequesities ready we calculate values for the function $y(x)$. Now we can finally create a plot of our function. Note that you will most likely have to change values for $a$, $b$, $c$, $d$ and $x$ in the cell above in order to produce a nice looking plot below."
      ]
    },
    {
      "cell_type": "code",
      "execution_count": 24,
      "metadata": {},
      "outputs": [
        {
          "data": {
            "text/plain": [
              "[<matplotlib.lines.Line2D at 0x1156f2810>]"
            ]
          },
          "execution_count": 24,
          "metadata": {},
          "output_type": "execute_result"
        },
        {
          "data": {
            "image/png": "[encoded data removed]",
            "text/plain": [
              "<Figure size 432x288 with 1 Axes>"
            ]
          },
          "metadata": {
            "needs_background": "light"
          },
          "output_type": "display_data"
        }
      ],
      "source": [
        "y = my_function(x, a, b, c, d)\n",
        "\n",
        "### BEGIN YOUR CODE\n",
        "\n",
        "# plt.plot(...)\n",
        "\n",
        "### END YOUR CODE"
      ]
    },
    {
      "cell_type": "markdown",
      "metadata": {},
      "source": [
        "### Tweak your plot\n",
        "\n",
        "Customize your figure. Change color (e.g. set it to red), update line style (e.g. plot a dotted line), add captions, labels and so on. Consult [documentation](https://matplotlib.org/stable/api/_as_gen/matplotlib.pyplot.plot.html) for more details. Try fitting several charts with different sets of $a$, $b$, $c$, $d$ parameter values on the same plot using `subplot`. Have a look at [tutorials](https://matplotlib.org/stable/tutorials/index.html) for more ideas."
      ]
    },
    {
      "cell_type": "markdown",
      "metadata": {},
      "source": [
        "### Feedback\n",
        "\n",
        "For your work filling in the cells above you will be awarded with:\n",
        "- a maximum of 0.5 points for correctly writing down your mathematical function using LaTeX;\n",
        "- a maximum of 1.5 points for correctly implementing your maths function using numpy;\n",
        "- a maximum of 1 point for producing a custom plot with \"non-default\" look."
      ]
    },
    {
      "cell_type": "code",
      "execution_count": null,
      "metadata": {},
      "outputs": [],
      "source": []
    }
  ],
  "metadata": {
    "kernelspec": {
      "display_name": "Python 3",
      "language": "python",
      "name": "python3"
    },
    "language_info": {
      "codemirror_mode": {
        "name": "ipython",
        "version": 3
      },
      "file_extension": ".py",
      "mimetype": "text/x-python",
      "name": "python",
      "nbconvert_exporter": "python",
      "pygments_lexer": "ipython3",
      "version": "3.7.6"
    }
  },
  "nbformat": 4,
  "nbformat_minor": 4
}