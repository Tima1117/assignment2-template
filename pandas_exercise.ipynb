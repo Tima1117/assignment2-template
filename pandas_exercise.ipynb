{
  "cells": [
    {
      "cell_type": "markdown",
      "metadata": {
        "id": "o-mrsl1Unr6r"
      },
      "source": [
        "# Homework 3. Pandas\n",
        "\n",
        "## Important notes\n",
        "\n",
        "1. *When you open this file on GitHub, copy the address to this file from the address bar of your browser. Now you can go to [Google Colab](https://colab.research.google.com/), click `File -> Open notebook -> GitHub`, paste the copied URL and click the search button (the one with the magnifying glass to the right of the search input box). Your personal copy of this notebook will now open on Google Colab.*\n",
        "2. *Do not delete or change variable names in the code cells below. You may add to each cell as many lines of code as you need, just make sure to assign your solution to the predefined variable(s) in the corresponding cell. Failing to do so will make the tests fail.*\n",
        "3. *To save your work, click `File -> Save a copy on GitHub` and __make sure to manually select the correct repository from the dropdown list__.*\n",
        "4. *If you mess up with this file and need to start from scratch, you can always find the original one [here](https://github.com/hse-mlwp-2022/assignment3-template/blob/main/pandas_exercise.ipynb). Just open it in Google Colab (see note 1) and save to your repository (see note 3). Remember to backup your code elsewhere, since this action will overwrite your previous work.* \n",
        "5. *Exercises 1-4 are mandatory. Your work __will not be graded__ if you fail any one of them. Exercises 5-8 are optional, you can skip them if you want*\n",
        "\n",
        "## About the Dataset\n",
        "\n",
        "We will be using 2019 flight statistics from the United States Department of Transportation’s Bureau of Transportation Statistics (available [here](https://www.transtats.bts.gov/DL_SelectFields.asp?gnoyr_VQ=FMF&QO_fu146_anzr=Nv4%20Pn44vr45) and in your repository as `data/T100_MARKET_ALL_CARRIER.zip`). You can load the dataset in pandas using this link: `https://github.com/hse-mlwp-2022/assignment3-template/raw/main/data/T100_MARKET_ALL_CARRIER.zip`.\n",
        "\n",
        "Each row contains information about a specific route for a given carrier in a given month (e.g., JFK &rarr; LAX on Delta Airlines in January). There are 321,409 rows and 41 columns. Note that you don't need to unzip the file to read it in with `pd.read_csv()`.\n",
        "\n",
        "#### Exercises\n",
        "\n",
        "##### 1. Read in the data and convert the column names to lowercase to make them easier to work with."
      ],
      "id": "o-mrsl1Unr6r"
    },
    {
      "cell_type": "code",
      "execution_count": 5,
      "metadata": {
        "id": "z4ZoFb1Hnr6u"
      },
      "outputs": [],
      "source": [
        "import pandas as p\n",
        "df = p.read_csv(\"https://github.com/hse-mlwp-2022/assignment3-template/raw/main/data/T100_MARKET_ALL_CARRIER.zip\")\n",
        "df.columns = (col.lower() for col in df.columns)"
      ],
      "id": "z4ZoFb1Hnr6u"
    },
    {
      "cell_type": "markdown",
      "source": [
        ""
      ],
      "metadata": {
        "id": "EZXQDpT-pdzC"
      },
      "id": "EZXQDpT-pdzC"
    },
    {
      "cell_type": "markdown",
      "metadata": {
        "id": "E_T7Q1--nr6v"
      },
      "source": [
        "##### 2. What columns are in the data? (0.5 point)"
      ],
      "id": "E_T7Q1--nr6v"
    },
    {
      "cell_type": "code",
      "execution_count": 6,
      "metadata": {
        "id": "FvcyRjr2nr6w",
        "outputId": "fe798f72-62cd-4550-f641-109ec1f7731b",
        "colab": {
          "base_uri": "https://localhost:8080/"
        }
      },
      "outputs": [
        {
          "output_type": "stream",
          "name": "stdout",
          "text": [
            "Index(['passengers', 'freight', 'mail', 'distance', 'unique_carrier',\n",
            "       'airline_id', 'unique_carrier_name', 'unique_carrier_entity', 'region',\n",
            "       'carrier', 'carrier_name', 'carrier_group', 'carrier_group_new',\n",
            "       'origin_airport_id', 'origin_airport_seq_id', 'origin_city_market_id',\n",
            "       'origin', 'origin_city_name', 'origin_state_abr', 'origin_state_fips',\n",
            "       'origin_state_nm', 'origin_country', 'origin_country_name',\n",
            "       'origin_wac', 'dest_airport_id', 'dest_airport_seq_id',\n",
            "       'dest_city_market_id', 'dest', 'dest_city_name', 'dest_state_abr',\n",
            "       'dest_state_fips', 'dest_state_nm', 'dest_country', 'dest_country_name',\n",
            "       'dest_wac', 'year', 'quarter', 'month', 'distance_group', 'class',\n",
            "       'data_source'],\n",
            "      dtype='object')\n"
          ]
        }
      ],
      "source": [
        "columns = df.columns\n",
        "\n",
        "print(columns)"
      ],
      "id": "FvcyRjr2nr6w"
    },
    {
      "cell_type": "markdown",
      "metadata": {
        "id": "58w9Sugtnr6w"
      },
      "source": [
        "##### 3. How many distinct carrier names are in the dataset? (0.5 point)"
      ],
      "id": "58w9Sugtnr6w"
    },
    {
      "cell_type": "code",
      "execution_count": 7,
      "metadata": {
        "id": "fKI9vI6cnr6w",
        "outputId": "f5f76c9d-acab-44bc-e9c5-bb28a4a38fc6",
        "colab": {
          "base_uri": "https://localhost:8080/"
        }
      },
      "outputs": [
        {
          "output_type": "stream",
          "name": "stdout",
          "text": [
            "318\n"
          ]
        }
      ],
      "source": [
        "carrier_names = df['unique_carrier_name'].nunique()\n",
        "\n",
        "print(carrier_names)"
      ],
      "id": "fKI9vI6cnr6w"
    },
    {
      "cell_type": "markdown",
      "metadata": {
        "id": "w-V5tVgEnr6x"
      },
      "source": [
        "##### 4. Calculate the totals of the `freight`, `mail`, and `passengers` columns for flights from the United Kingdom to the United States. (1 point)"
      ],
      "id": "w-V5tVgEnr6x"
    },
    {
      "cell_type": "code",
      "execution_count": 8,
      "metadata": {
        "id": "P2OPVxLunr6x",
        "outputId": "05eeceb2-b5e1-4956-a430-e77740597de0",
        "colab": {
          "base_uri": "https://localhost:8080/"
        }
      },
      "outputs": [
        {
          "output_type": "stream",
          "name": "stdout",
          "text": [
            "freight total: 903296879.0\n",
            "mail total: 29838395.0\n",
            "passengers total: 10685608.0\n"
          ]
        }
      ],
      "source": [
        "freight_total = df[(df['origin_country_name'] == 'United Kingdom') & (df['dest_country_name'] == 'United States')]['freight'].sum()\n",
        "mail_total = df[(df['origin_country_name'] == 'United Kingdom') & (df['dest_country_name'] == 'United States')]['mail'].sum()\n",
        "passengers_total = df[(df['origin_country_name'] == 'United Kingdom') & (df['dest_country_name'] == 'United States')]['passengers'].sum()\n",
        "\n",
        "print(f\"freight total: {freight_total}\")\n",
        "print(f\"mail total: {mail_total}\")\n",
        "print(f\"passengers total: {passengers_total}\")"
      ],
      "id": "P2OPVxLunr6x"
    },
    {
      "cell_type": "markdown",
      "metadata": {
        "id": "zybUwRKonr6y"
      },
      "source": [
        "##### 5. Which 10 carriers flew the most passengers out of the United States to another country? (1.5 points)\n",
        "The result should be a Python iterable, e.g. a list or a corresponding pandas object"
      ],
      "id": "zybUwRKonr6y"
    },
    {
      "cell_type": "code",
      "execution_count": 9,
      "metadata": {
        "id": "goEDCUlLnr6z",
        "outputId": "dfbc9986-c038-4002-f79d-6c557c95bd46",
        "colab": {
          "base_uri": "https://localhost:8080/"
        }
      },
      "outputs": [
        {
          "output_type": "stream",
          "name": "stdout",
          "text": [
            "List of top 10 carriers with max number of passengers flown out of US: ['American Airlines Inc.', 'United Air Lines Inc.', 'Delta Air Lines Inc.', 'JetBlue Airways', 'British Airways Plc', 'Lufthansa German Airlines', 'Westjet', 'Air Canada', 'Southwest Airlines Co.', 'Virgin Atlantic Airways']\n"
          ]
        }
      ],
      "source": [
        "top_10_by_passengers = df[(df['origin_country_name'] == 'United States') & (df['dest_country_name'] != 'United States')].groupby('unique_carrier_name')['passengers'].sum().nlargest(10).index.tolist()\n",
        "\n",
        "print(f\"List of top 10 carriers with max number of passengers flown out of US: {top_10_by_passengers}\")"
      ],
      "id": "goEDCUlLnr6z"
    },
    {
      "cell_type": "markdown",
      "metadata": {
        "id": "QgcJN5Rrnr6z"
      },
      "source": [
        "##### 6. Between which two cities were the most passengers flown? Make sure to account for both directions. (1.5 points)"
      ],
      "id": "QgcJN5Rrnr6z"
    },
    {
      "cell_type": "code",
      "execution_count": 16,
      "metadata": {
        "id": "dCLqXviKnr6z",
        "outputId": "5625eb1d-1230-450b-8c36-7d7ba62e75ea",
        "colab": {
          "base_uri": "https://localhost:8080/"
        }
      },
      "outputs": [
        {
          "output_type": "stream",
          "name": "stdout",
          "text": [
            "top route is 'Chicago, IL - New York, NY' with traffic of 4131579.0 passengers\n"
          ]
        }
      ],
      "source": [
        "def direction(row):\n",
        "  origin = row['origin_city_name']\n",
        "  dest = row['dest_city_name']\n",
        "  if origin == dest:\n",
        "    return 'none'\n",
        "  elif origin > dest:\n",
        "    k = origin\n",
        "    origin = dest \n",
        "    dest = k \n",
        "  return '?'.join([origin, dest])\n",
        "df['direction'] = df[['origin_city_name', 'dest_city_name']].apply(direction, axis=1)\n",
        "top_direction = df.groupby('direction')['passengers'].sum().idxmax()\n",
        "top_route_origin_city = df[df['origin_city_name']==top_direction.split('?')[0]]['origin_city_name'].iloc[0] \n",
        "top_route_dest_city = df[df['origin_city_name']==top_direction.split('?')[1]]['origin_city_name'].iloc[0] \n",
        "top_route_passengers_count = df.groupby('direction')['passengers'].sum().max() \n",
        "print(f\"top route is '{top_route_origin_city} - {top_route_dest_city}' with traffic of {top_route_passengers_count} passengers\")"
      ],
      "id": "dCLqXviKnr6z"
    },
    {
      "cell_type": "markdown",
      "metadata": {
        "id": "2uFXFTRenr60"
      },
      "source": [
        "##### 7. Find the top 3 carriers for the pair of cities found in #6 and calculate the percentage of passengers each accounted for. (2 points)\n",
        "The result should be a pandas dataframe object with two columns: \n",
        "1. carrier name (string)\n",
        "2. percentage of passengers (float in the range of 0-100)"
      ],
      "id": "2uFXFTRenr60"
    },
    {
      "cell_type": "code",
      "execution_count": 22,
      "metadata": {
        "id": "wscVKUsDnr60",
        "outputId": "5b899db0-157f-463a-f135-33895a39dd68",
        "colab": {
          "base_uri": "https://localhost:8080/"
        }
      },
      "outputs": [
        {
          "output_type": "execute_result",
          "data": {
            "text/plain": [
              "unique_carrier_name\n",
              "American Airlines Inc.    31.305102\n",
              "United Air Lines Inc.     23.227367\n",
              "Delta Air Lines Inc.      13.333450\n",
              "Name: passengers, dtype: float64"
            ]
          },
          "metadata": {},
          "execution_count": 22
        }
      ],
      "source": [
        "all_passengers_series = df[df['direction']==top_direction].groupby('unique_carrier_name')['passengers'].sum()\n",
        "all_passengers = all_passengers_series.sum()\n",
        "(df[df['direction']==top_direction].groupby('unique_carrier_name')['passengers'].sum().nlargest(3) / all_passengers * 100).reset_index()\n",
        "top_3_carriers_df = (df[df['direction']==top_direction].groupby('unique_carrier_name')['passengers'].sum().nlargest(3) / all_passengers * 100)\n",
        "top_3_carriers_df"
      ],
      "id": "wscVKUsDnr60"
    },
    {
      "cell_type": "markdown",
      "metadata": {
        "id": "tryj8wKNnr60"
      },
      "source": [
        "##### 8. Find the percentage of international travel per country using total passengers on class F flights. (3 points)"
      ],
      "id": "tryj8wKNnr60"
    },
    {
      "cell_type": "code",
      "execution_count": null,
      "metadata": {
        "id": "eCIPlJtfnr60"
      },
      "outputs": [],
      "source": [
        "international_travel_per_country = ... # Place your code here instead of '...'\n",
        "\n",
        "international_travel_per_country"
      ],
      "id": "eCIPlJtfnr60"
    }
  ],
  "metadata": {
    "kernelspec": {
      "display_name": "Python 3",
      "language": "python",
      "name": "python3"
    },
    "language_info": {
      "codemirror_mode": {
        "name": "ipython",
        "version": 3
      },
      "file_extension": ".py",
      "mimetype": "text/x-python",
      "name": "python",
      "nbconvert_exporter": "python",
      "pygments_lexer": "ipython3",
      "version": "3.7.6"
    },
    "colab": {
      "name": "pandas_exercise.ipynb",
      "provenance": []
    }
  },
  "nbformat": 4,
  "nbformat_minor": 5
}